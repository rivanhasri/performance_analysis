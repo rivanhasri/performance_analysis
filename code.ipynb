{
 "cells": [
  {
   "cell_type": "code",
   "execution_count": 1,
   "metadata": {},
   "outputs": [],
   "source": [
    "import pandas as pd\n",
    "import numpy as np\n",
    "import matplotlib.pyplot as plt\n",
    "import seaborn as sns\n",
    "import plotly.express as px\n",
    "import plotly.graph_objects as go\n",
    "from plotly.subplots import make_subplots"
   ]
  },
  {
   "cell_type": "markdown",
   "metadata": {},
   "source": [
    "## OUTLINE\n",
    "\n",
    "- Sales by Segment\n",
    "- Order by Month\n",
    "- Total Category Growth by Year\n",
    "- Total Segment Growth by Year\n",
    "\n",
    "Tambahan:\n",
    "- Descriptive Analytics\n",
    "- Categorical Variable Analysis (PMF)\n",
    "- Hypothesis Testing"
   ]
  },
  {
   "cell_type": "code",
   "execution_count": 2,
   "metadata": {},
   "outputs": [],
   "source": [
    "df_budget = pd.read_csv('Budget.csv')\n",
    "df_detail = pd.read_csv('Details.csv')\n",
    "df_order = pd.read_csv('Orders.csv')"
   ]
  },
  {
   "cell_type": "code",
   "execution_count": 3,
   "metadata": {},
   "outputs": [
    {
     "data": {
      "text/html": [
       "<div>\n",
       "<style scoped>\n",
       "    .dataframe tbody tr th:only-of-type {\n",
       "        vertical-align: middle;\n",
       "    }\n",
       "\n",
       "    .dataframe tbody tr th {\n",
       "        vertical-align: top;\n",
       "    }\n",
       "\n",
       "    .dataframe thead th {\n",
       "        text-align: right;\n",
       "    }\n",
       "</style>\n",
       "<table border=\"1\" class=\"dataframe\">\n",
       "  <thead>\n",
       "    <tr style=\"text-align: right;\">\n",
       "      <th></th>\n",
       "      <th>Order ID</th>\n",
       "      <th>Amount</th>\n",
       "      <th>Profit</th>\n",
       "      <th>Quantity</th>\n",
       "      <th>Category</th>\n",
       "      <th>Sub-Category</th>\n",
       "      <th>PaymentMode</th>\n",
       "      <th>Order Date</th>\n",
       "      <th>CustomerName</th>\n",
       "      <th>State</th>\n",
       "      <th>City</th>\n",
       "    </tr>\n",
       "  </thead>\n",
       "  <tbody>\n",
       "    <tr>\n",
       "      <th>0</th>\n",
       "      <td>B-25681</td>\n",
       "      <td>1096</td>\n",
       "      <td>658</td>\n",
       "      <td>7</td>\n",
       "      <td>Female</td>\n",
       "      <td>Sports Watch</td>\n",
       "      <td>COD</td>\n",
       "      <td>04/06/2022</td>\n",
       "      <td>Bhawna</td>\n",
       "      <td>Madhya Pradesh</td>\n",
       "      <td>Indore</td>\n",
       "    </tr>\n",
       "    <tr>\n",
       "      <th>1</th>\n",
       "      <td>B-26055</td>\n",
       "      <td>5729</td>\n",
       "      <td>64</td>\n",
       "      <td>14</td>\n",
       "      <td>Unisex</td>\n",
       "      <td>Luxury Watch</td>\n",
       "      <td>EMI</td>\n",
       "      <td>10/03/2023</td>\n",
       "      <td>Harivansh</td>\n",
       "      <td>Uttar Pradesh</td>\n",
       "      <td>Mathura</td>\n",
       "    </tr>\n",
       "    <tr>\n",
       "      <th>2</th>\n",
       "      <td>B-25955</td>\n",
       "      <td>2927</td>\n",
       "      <td>146</td>\n",
       "      <td>8</td>\n",
       "      <td>Unisex</td>\n",
       "      <td>Digital Watch</td>\n",
       "      <td>EMI</td>\n",
       "      <td>16/01/2022</td>\n",
       "      <td>Shiva</td>\n",
       "      <td>Maharashtra</td>\n",
       "      <td>Pune</td>\n",
       "    </tr>\n",
       "    <tr>\n",
       "      <th>3</th>\n",
       "      <td>B-26093</td>\n",
       "      <td>2847</td>\n",
       "      <td>712</td>\n",
       "      <td>8</td>\n",
       "      <td>Female</td>\n",
       "      <td>Military Watch</td>\n",
       "      <td>Credit Card</td>\n",
       "      <td>27/03/2022</td>\n",
       "      <td>Sarita</td>\n",
       "      <td>Maharashtra</td>\n",
       "      <td>Pune</td>\n",
       "    </tr>\n",
       "    <tr>\n",
       "      <th>4</th>\n",
       "      <td>B-25602</td>\n",
       "      <td>2617</td>\n",
       "      <td>1151</td>\n",
       "      <td>4</td>\n",
       "      <td>Female</td>\n",
       "      <td>Pilot Watch</td>\n",
       "      <td>Credit Card</td>\n",
       "      <td>01/04/2022</td>\n",
       "      <td>Vrinda</td>\n",
       "      <td>Maharashtra</td>\n",
       "      <td>Pune</td>\n",
       "    </tr>\n",
       "    <tr>\n",
       "      <th>...</th>\n",
       "      <td>...</td>\n",
       "      <td>...</td>\n",
       "      <td>...</td>\n",
       "      <td>...</td>\n",
       "      <td>...</td>\n",
       "      <td>...</td>\n",
       "      <td>...</td>\n",
       "      <td>...</td>\n",
       "      <td>...</td>\n",
       "      <td>...</td>\n",
       "      <td>...</td>\n",
       "    </tr>\n",
       "    <tr>\n",
       "      <th>1575</th>\n",
       "      <td>A-24003</td>\n",
       "      <td>7</td>\n",
       "      <td>-3</td>\n",
       "      <td>2</td>\n",
       "      <td>Male</td>\n",
       "      <td>Dress Watch</td>\n",
       "      <td>COD</td>\n",
       "      <td>19/03/2023</td>\n",
       "      <td>Nikhil</td>\n",
       "      <td>Punjab</td>\n",
       "      <td>Chandigarh</td>\n",
       "    </tr>\n",
       "    <tr>\n",
       "      <th>1576</th>\n",
       "      <td>A-24004</td>\n",
       "      <td>3151</td>\n",
       "      <td>-35</td>\n",
       "      <td>7</td>\n",
       "      <td>Male</td>\n",
       "      <td>Quartz Watch</td>\n",
       "      <td>EMI</td>\n",
       "      <td>01/05/2023</td>\n",
       "      <td>Shikhar</td>\n",
       "      <td>Himachal Pradesh</td>\n",
       "      <td>Simla</td>\n",
       "    </tr>\n",
       "    <tr>\n",
       "      <th>1577</th>\n",
       "      <td>A-24005</td>\n",
       "      <td>4141</td>\n",
       "      <td>1698</td>\n",
       "      <td>13</td>\n",
       "      <td>Female</td>\n",
       "      <td>Military Watch</td>\n",
       "      <td>COD</td>\n",
       "      <td>02/06/2023</td>\n",
       "      <td>Surabhi</td>\n",
       "      <td>Tamil Nadu</td>\n",
       "      <td>Chennai</td>\n",
       "    </tr>\n",
       "    <tr>\n",
       "      <th>1578</th>\n",
       "      <td>A-24006</td>\n",
       "      <td>7</td>\n",
       "      <td>-2</td>\n",
       "      <td>1</td>\n",
       "      <td>Male</td>\n",
       "      <td>Dress Watch</td>\n",
       "      <td>COD</td>\n",
       "      <td>23/08/2023</td>\n",
       "      <td>Rane</td>\n",
       "      <td>Maharashtra</td>\n",
       "      <td>Mumbai</td>\n",
       "    </tr>\n",
       "    <tr>\n",
       "      <th>1579</th>\n",
       "      <td>A-24007</td>\n",
       "      <td>4363</td>\n",
       "      <td>305</td>\n",
       "      <td>5</td>\n",
       "      <td>Unisex</td>\n",
       "      <td>Fitness Trackers</td>\n",
       "      <td>EMI</td>\n",
       "      <td>12/03/2023</td>\n",
       "      <td>Noshiba</td>\n",
       "      <td>Gujarat</td>\n",
       "      <td>Ahmedabad</td>\n",
       "    </tr>\n",
       "  </tbody>\n",
       "</table>\n",
       "<p>1580 rows × 11 columns</p>\n",
       "</div>"
      ],
      "text/plain": [
       "     Order ID  Amount  Profit  Quantity Category      Sub-Category  \\\n",
       "0     B-25681    1096     658         7   Female      Sports Watch   \n",
       "1     B-26055    5729      64        14   Unisex      Luxury Watch   \n",
       "2     B-25955    2927     146         8   Unisex     Digital Watch   \n",
       "3     B-26093    2847     712         8   Female    Military Watch   \n",
       "4     B-25602    2617    1151         4   Female       Pilot Watch   \n",
       "...       ...     ...     ...       ...      ...               ...   \n",
       "1575  A-24003       7      -3         2     Male       Dress Watch   \n",
       "1576  A-24004    3151     -35         7     Male      Quartz Watch   \n",
       "1577  A-24005    4141    1698        13   Female    Military Watch   \n",
       "1578  A-24006       7      -2         1     Male       Dress Watch   \n",
       "1579  A-24007    4363     305         5   Unisex  Fitness Trackers   \n",
       "\n",
       "      PaymentMode  Order Date CustomerName             State        City  \n",
       "0             COD  04/06/2022       Bhawna    Madhya Pradesh      Indore  \n",
       "1             EMI  10/03/2023    Harivansh     Uttar Pradesh     Mathura  \n",
       "2             EMI  16/01/2022        Shiva       Maharashtra        Pune  \n",
       "3     Credit Card  27/03/2022       Sarita       Maharashtra        Pune  \n",
       "4     Credit Card  01/04/2022       Vrinda       Maharashtra        Pune  \n",
       "...           ...         ...          ...               ...         ...  \n",
       "1575          COD  19/03/2023       Nikhil            Punjab  Chandigarh  \n",
       "1576          EMI  01/05/2023      Shikhar  Himachal Pradesh       Simla  \n",
       "1577          COD  02/06/2023      Surabhi        Tamil Nadu     Chennai  \n",
       "1578          COD  23/08/2023         Rane       Maharashtra      Mumbai  \n",
       "1579          EMI  12/03/2023      Noshiba           Gujarat   Ahmedabad  \n",
       "\n",
       "[1580 rows x 11 columns]"
      ]
     },
     "execution_count": 3,
     "metadata": {},
     "output_type": "execute_result"
    }
   ],
   "source": [
    "order_details = pd.merge(\n",
    "    df_detail, df_order, how='left', on='Order ID'\n",
    ")\n",
    "\n",
    "order_details"
   ]
  },
  {
   "cell_type": "code",
   "execution_count": 4,
   "metadata": {},
   "outputs": [],
   "source": [
    "order_details = order_details.dropna(how='any',axis=0)"
   ]
  },
  {
   "cell_type": "markdown",
   "metadata": {},
   "source": [
    "### Extract Year"
   ]
  },
  {
   "cell_type": "code",
   "execution_count": 5,
   "metadata": {},
   "outputs": [
    {
     "name": "stderr",
     "output_type": "stream",
     "text": [
      "<ipython-input-5-3f614abf5755>:1: SettingWithCopyWarning: \n",
      "A value is trying to be set on a copy of a slice from a DataFrame.\n",
      "Try using .loc[row_indexer,col_indexer] = value instead\n",
      "\n",
      "See the caveats in the documentation: https://pandas.pydata.org/pandas-docs/stable/user_guide/indexing.html#returning-a-view-versus-a-copy\n",
      "  order_details['Order Date'] = pd.to_datetime(order_details['Order Date'].str.strip(), format='%d/%m/%Y')\n",
      "<ipython-input-5-3f614abf5755>:2: SettingWithCopyWarning: \n",
      "A value is trying to be set on a copy of a slice from a DataFrame.\n",
      "Try using .loc[row_indexer,col_indexer] = value instead\n",
      "\n",
      "See the caveats in the documentation: https://pandas.pydata.org/pandas-docs/stable/user_guide/indexing.html#returning-a-view-versus-a-copy\n",
      "  order_details['Year'] = order_details['Order Date'].dt.year.astype(int)\n",
      "<ipython-input-5-3f614abf5755>:3: SettingWithCopyWarning: \n",
      "A value is trying to be set on a copy of a slice from a DataFrame.\n",
      "Try using .loc[row_indexer,col_indexer] = value instead\n",
      "\n",
      "See the caveats in the documentation: https://pandas.pydata.org/pandas-docs/stable/user_guide/indexing.html#returning-a-view-versus-a-copy\n",
      "  order_details['Year'] = order_details['Year'].apply(str)\n"
     ]
    },
    {
     "data": {
      "text/html": [
       "<div>\n",
       "<style scoped>\n",
       "    .dataframe tbody tr th:only-of-type {\n",
       "        vertical-align: middle;\n",
       "    }\n",
       "\n",
       "    .dataframe tbody tr th {\n",
       "        vertical-align: top;\n",
       "    }\n",
       "\n",
       "    .dataframe thead th {\n",
       "        text-align: right;\n",
       "    }\n",
       "</style>\n",
       "<table border=\"1\" class=\"dataframe\">\n",
       "  <thead>\n",
       "    <tr style=\"text-align: right;\">\n",
       "      <th></th>\n",
       "      <th>Order ID</th>\n",
       "      <th>Amount</th>\n",
       "      <th>Profit</th>\n",
       "      <th>Quantity</th>\n",
       "      <th>Category</th>\n",
       "      <th>Sub-Category</th>\n",
       "      <th>PaymentMode</th>\n",
       "      <th>Order Date</th>\n",
       "      <th>CustomerName</th>\n",
       "      <th>State</th>\n",
       "      <th>City</th>\n",
       "      <th>Year</th>\n",
       "    </tr>\n",
       "  </thead>\n",
       "  <tbody>\n",
       "    <tr>\n",
       "      <th>0</th>\n",
       "      <td>B-25681</td>\n",
       "      <td>1096</td>\n",
       "      <td>658</td>\n",
       "      <td>7</td>\n",
       "      <td>Female</td>\n",
       "      <td>Sports Watch</td>\n",
       "      <td>COD</td>\n",
       "      <td>2022-06-04</td>\n",
       "      <td>Bhawna</td>\n",
       "      <td>Madhya Pradesh</td>\n",
       "      <td>Indore</td>\n",
       "      <td>2022</td>\n",
       "    </tr>\n",
       "    <tr>\n",
       "      <th>1</th>\n",
       "      <td>B-26055</td>\n",
       "      <td>5729</td>\n",
       "      <td>64</td>\n",
       "      <td>14</td>\n",
       "      <td>Unisex</td>\n",
       "      <td>Luxury Watch</td>\n",
       "      <td>EMI</td>\n",
       "      <td>2023-03-10</td>\n",
       "      <td>Harivansh</td>\n",
       "      <td>Uttar Pradesh</td>\n",
       "      <td>Mathura</td>\n",
       "      <td>2023</td>\n",
       "    </tr>\n",
       "    <tr>\n",
       "      <th>2</th>\n",
       "      <td>B-25955</td>\n",
       "      <td>2927</td>\n",
       "      <td>146</td>\n",
       "      <td>8</td>\n",
       "      <td>Unisex</td>\n",
       "      <td>Digital Watch</td>\n",
       "      <td>EMI</td>\n",
       "      <td>2022-01-16</td>\n",
       "      <td>Shiva</td>\n",
       "      <td>Maharashtra</td>\n",
       "      <td>Pune</td>\n",
       "      <td>2022</td>\n",
       "    </tr>\n",
       "    <tr>\n",
       "      <th>3</th>\n",
       "      <td>B-26093</td>\n",
       "      <td>2847</td>\n",
       "      <td>712</td>\n",
       "      <td>8</td>\n",
       "      <td>Female</td>\n",
       "      <td>Military Watch</td>\n",
       "      <td>Credit Card</td>\n",
       "      <td>2022-03-27</td>\n",
       "      <td>Sarita</td>\n",
       "      <td>Maharashtra</td>\n",
       "      <td>Pune</td>\n",
       "      <td>2022</td>\n",
       "    </tr>\n",
       "    <tr>\n",
       "      <th>4</th>\n",
       "      <td>B-25602</td>\n",
       "      <td>2617</td>\n",
       "      <td>1151</td>\n",
       "      <td>4</td>\n",
       "      <td>Female</td>\n",
       "      <td>Pilot Watch</td>\n",
       "      <td>Credit Card</td>\n",
       "      <td>2022-04-01</td>\n",
       "      <td>Vrinda</td>\n",
       "      <td>Maharashtra</td>\n",
       "      <td>Pune</td>\n",
       "      <td>2022</td>\n",
       "    </tr>\n",
       "  </tbody>\n",
       "</table>\n",
       "</div>"
      ],
      "text/plain": [
       "  Order ID  Amount  Profit  Quantity Category    Sub-Category  PaymentMode  \\\n",
       "0  B-25681    1096     658         7   Female    Sports Watch          COD   \n",
       "1  B-26055    5729      64        14   Unisex    Luxury Watch          EMI   \n",
       "2  B-25955    2927     146         8   Unisex   Digital Watch          EMI   \n",
       "3  B-26093    2847     712         8   Female  Military Watch  Credit Card   \n",
       "4  B-25602    2617    1151         4   Female     Pilot Watch  Credit Card   \n",
       "\n",
       "  Order Date CustomerName           State     City  Year  \n",
       "0 2022-06-04       Bhawna  Madhya Pradesh   Indore  2022  \n",
       "1 2023-03-10    Harivansh   Uttar Pradesh  Mathura  2023  \n",
       "2 2022-01-16        Shiva     Maharashtra     Pune  2022  \n",
       "3 2022-03-27       Sarita     Maharashtra     Pune  2022  \n",
       "4 2022-04-01       Vrinda     Maharashtra     Pune  2022  "
      ]
     },
     "execution_count": 5,
     "metadata": {},
     "output_type": "execute_result"
    }
   ],
   "source": [
    "order_details['Order Date'] = pd.to_datetime(order_details['Order Date'].str.strip(), format='%d/%m/%Y')\n",
    "order_details['Year'] = order_details['Order Date'].dt.year.astype(int)\n",
    "order_details['Year'] = order_details['Year'].apply(str)\n",
    "\n",
    "order_details.head()"
   ]
  },
  {
   "cell_type": "code",
   "execution_count": 6,
   "metadata": {},
   "outputs": [
    {
     "name": "stderr",
     "output_type": "stream",
     "text": [
      "<ipython-input-6-2c2bcd685265>:1: SettingWithCopyWarning: \n",
      "A value is trying to be set on a copy of a slice from a DataFrame.\n",
      "Try using .loc[row_indexer,col_indexer] = value instead\n",
      "\n",
      "See the caveats in the documentation: https://pandas.pydata.org/pandas-docs/stable/user_guide/indexing.html#returning-a-view-versus-a-copy\n",
      "  order_details['Month Idx'] = order_details['Order Date'].dt.month\n",
      "<ipython-input-6-2c2bcd685265>:2: SettingWithCopyWarning: \n",
      "A value is trying to be set on a copy of a slice from a DataFrame.\n",
      "Try using .loc[row_indexer,col_indexer] = value instead\n",
      "\n",
      "See the caveats in the documentation: https://pandas.pydata.org/pandas-docs/stable/user_guide/indexing.html#returning-a-view-versus-a-copy\n",
      "  order_details['Month'] = order_details['Order Date'].dt.strftime('%b')\n"
     ]
    }
   ],
   "source": [
    "order_details['Month Idx'] = order_details['Order Date'].dt.month\n",
    "order_details['Month'] = order_details['Order Date'].dt.strftime('%b')"
   ]
  },
  {
   "cell_type": "markdown",
   "metadata": {},
   "source": [
    "## Sales by Segment"
   ]
  },
  {
   "cell_type": "markdown",
   "metadata": {},
   "source": [
    "Karena tidak pendefinisian secara khusus kolom mana yang menjadi segmen dan sales, maka di analisis ditentukan sebagai berikut:\n",
    "- Segment -> berdasarkan State\n",
    "- Sales -> berdasarkan Amount\n",
    "\n",
    "Misal untuk segment di State Madhya Pradesh adalah sebagai berikut."
   ]
  },
  {
   "cell_type": "code",
   "execution_count": 7,
   "metadata": {},
   "outputs": [
    {
     "name": "stderr",
     "output_type": "stream",
     "text": [
      "No artists with labels found to put in legend.  Note that artists whose label start with an underscore are ignored when legend() is called with no argument.\n"
     ]
    },
    {
     "data": {
      "image/png": "[encoded data removed]",
      "text/plain": [
       "<Figure size 864x432 with 1 Axes>"
      ]
     },
     "metadata": {
      "needs_background": "light"
     },
     "output_type": "display_data"
    }
   ],
   "source": [
    "sales_by_month_delhi = order_details[order_details['State'] == 'Madhya Pradesh'][['Year', 'Amount', 'Month']]\n",
    "\n",
    "plt.figure(figsize=(12, 6))\n",
    "\n",
    "plt.bar(sales_by_month_delhi[sales_by_month_delhi['Year'] == '2023']['Month'], sales_by_month_delhi[sales_by_month_delhi['Year'] == '2023']['Amount'])\n",
    "\n",
    "plt.xlabel('Month')\n",
    "plt.ylabel('Total Amount')\n",
    "plt.title('Total Amount by Month for State Madhya Pradesh')\n",
    "plt.legend(title='State', bbox_to_anchor=(1.05, 1), loc='upper left')\n",
    "plt.xticks(rotation=45)\n",
    "plt.tight_layout()\n",
    "plt.show()"
   ]
  },
  {
   "cell_type": "markdown",
   "metadata": {},
   "source": [
    "## Order by Month"
   ]
  },
  {
   "cell_type": "code",
   "execution_count": 8,
   "metadata": {},
   "outputs": [],
   "source": [
    "month_map = {1:'Jan', 2:'Feb', 3:'Mar', 4:'Apr', 5:'May',\n",
    "             6:'Jun', 7:'Jul', 8:'Aug', 9:'Sep', 10:'Oct', \n",
    "             11:'Nov', 12:'Dec'}\n",
    "\n",
    "monthly_quantity = order_details[order_details['Year'] == '2023'].groupby('Month Idx')['Quantity'].sum()\n",
    "monthly_quantity = monthly_quantity.sort_index()\n",
    "# mapping month idx ke value yang ada di var month_map\n",
    "monthly_quantity.index = monthly_quantity.index.map(month_map)\n",
    "\n",
    "monthly_quantity = pd.DataFrame(monthly_quantity)"
   ]
  },
  {
   "cell_type": "code",
   "execution_count": 9,
   "metadata": {},
   "outputs": [
    {
     "data": {
      "image/png": "[encoded data removed]",
      "text/plain": [
       "<Figure size 720x288 with 1 Axes>"
      ]
     },
     "metadata": {
      "needs_background": "light"
     },
     "output_type": "display_data"
    }
   ],
   "source": [
    "plt.figure(figsize=(10, 4))\n",
    "\n",
    "plt.plot(monthly_quantity.index, monthly_quantity['Quantity'])\n",
    "\n",
    "plt.xlabel('Month')\n",
    "plt.ylabel('Quantity')\n",
    "plt.title('Order by Month')\n",
    "# plt.legend(title='State', bbox_to_anchor=(1.05, 1), loc='upper left')\n",
    "plt.xticks(rotation=45)\n",
    "plt.tight_layout()\n",
    "plt.show()"
   ]
  },
  {
   "cell_type": "markdown",
   "metadata": {},
   "source": [
    "## Total Category Growth by Year"
   ]
  },
  {
   "cell_type": "markdown",
   "metadata": {},
   "source": [
    "Dalam data ini tidak begitu jelas apakah category yang dimaksud pada table Budget atau table Detail. Dalam analisis ini digunakan category pada table Detail yang lebih mengara kepada jenis kelamin"
   ]
  },
  {
   "cell_type": "code",
   "execution_count": 10,
   "metadata": {},
   "outputs": [
    {
     "data": {
      "text/html": [
       "<div>\n",
       "<style scoped>\n",
       "    .dataframe tbody tr th:only-of-type {\n",
       "        vertical-align: middle;\n",
       "    }\n",
       "\n",
       "    .dataframe tbody tr th {\n",
       "        vertical-align: top;\n",
       "    }\n",
       "\n",
       "    .dataframe thead th {\n",
       "        text-align: right;\n",
       "    }\n",
       "</style>\n",
       "<table border=\"1\" class=\"dataframe\">\n",
       "  <thead>\n",
       "    <tr style=\"text-align: right;\">\n",
       "      <th>Category</th>\n",
       "      <th>Female</th>\n",
       "      <th>Male</th>\n",
       "      <th>Unisex</th>\n",
       "    </tr>\n",
       "    <tr>\n",
       "      <th>Year</th>\n",
       "      <th></th>\n",
       "      <th></th>\n",
       "      <th></th>\n",
       "    </tr>\n",
       "  </thead>\n",
       "  <tbody>\n",
       "    <tr>\n",
       "      <th>2022</th>\n",
       "      <td>NaN</td>\n",
       "      <td>NaN</td>\n",
       "      <td>NaN</td>\n",
       "    </tr>\n",
       "    <tr>\n",
       "      <th>2023</th>\n",
       "      <td>17.908497</td>\n",
       "      <td>66.692601</td>\n",
       "      <td>56.220778</td>\n",
       "    </tr>\n",
       "  </tbody>\n",
       "</table>\n",
       "</div>"
      ],
      "text/plain": [
       "Category     Female       Male     Unisex\n",
       "Year                                     \n",
       "2022            NaN        NaN        NaN\n",
       "2023      17.908497  66.692601  56.220778"
      ]
     },
     "execution_count": 10,
     "metadata": {},
     "output_type": "execute_result"
    }
   ],
   "source": [
    "growth_year = order_details.loc[:, ['Year', 'Amount', 'Category']]\n",
    "order_details.groupby(['Year', 'Category'])['Amount'].sum().unstack().pct_change() * 100"
   ]
  },
  {
   "cell_type": "markdown",
   "metadata": {},
   "source": [
    "Untuk mengetahui avg growthnya seperti berikut:"
   ]
  },
  {
   "cell_type": "code",
   "execution_count": 11,
   "metadata": {},
   "outputs": [
    {
     "data": {
      "text/plain": [
       "0.4694062513986104"
      ]
     },
     "execution_count": 11,
     "metadata": {},
     "output_type": "execute_result"
    }
   ],
   "source": [
    "grouped = order_details.groupby(['Category', 'Year'])\n",
    "total_sales = grouped['Amount'].sum()\n",
    "\n",
    "category_growth = total_sales.unstack().pct_change(axis=1)\n",
    "category_growth['2023'].mean()"
   ]
  },
  {
   "cell_type": "markdown",
   "metadata": {},
   "source": [
    "Total growth untuk category pada tahun 2023 meningkat sebesar 46.9%"
   ]
  },
  {
   "cell_type": "markdown",
   "metadata": {},
   "source": [
    "## Total Segment Growth by Year"
   ]
  },
  {
   "cell_type": "markdown",
   "metadata": {},
   "source": [
    "Dalam data ini tidak begitu jelas apakah segment yang dimaksud, karena tidak ada kolom khusus yang menjelaskan terkait segment. Sehingga dalam analisis ini digunakan segment berdasarkan State"
   ]
  },
  {
   "cell_type": "code",
   "execution_count": 12,
   "metadata": {},
   "outputs": [
    {
     "name": "stdout",
     "output_type": "stream",
     "text": [
      "Year               2022      2023\n",
      "State                            \n",
      "Andhra Pradesh      NaN  0.000000\n",
      "Bihar               NaN  0.000000\n",
      "Delhi               NaN  0.671804\n",
      "Goa                 NaN  2.726681\n",
      "Gujarat             NaN  1.923665\n",
      "Haryana             NaN  0.000000\n",
      "Himachal Pradesh    NaN  1.583429\n",
      "Jammu and Kashmir   NaN  1.686316\n",
      "Karnataka           NaN  0.000000\n",
      "Kerala              NaN  0.000000\n",
      "Madhya Pradesh      NaN  1.514657\n",
      "Maharashtra         NaN -0.274971\n",
      "Nagaland            NaN  1.309550\n",
      "Punjab              NaN  0.168204\n",
      "Rajasthan           NaN -0.153675\n",
      "Sikkim              NaN  5.121301\n",
      "Tamil Nadu          NaN  3.019681\n",
      "Uttar Pradesh       NaN -0.631747\n",
      "West Bengal         NaN  0.254453\n"
     ]
    }
   ],
   "source": [
    "grouped_segment = order_details.groupby(['State', 'Year'])\n",
    "\n",
    "# Langkah 2: Hitung total penjualan untuk setiap kelompok\n",
    "total_sales_segment = grouped_segment['Amount'].sum()\n",
    "\n",
    "# Langkah 3: Hitung pertumbuhan kategori dari tahun ke tahun\n",
    "segment_category_growth = total_sales_segment.unstack().pct_change(axis=1)\n",
    "\n",
    "print(segment_category_growth)"
   ]
  },
  {
   "cell_type": "code",
   "execution_count": 13,
   "metadata": {},
   "outputs": [
    {
     "data": {
      "text/plain": [
       "0.9957551911869512"
      ]
     },
     "execution_count": 13,
     "metadata": {},
     "output_type": "execute_result"
    }
   ],
   "source": [
    "segment_category_growth['2023'].mean()"
   ]
  },
  {
   "cell_type": "markdown",
   "metadata": {},
   "source": [
    "Total growth segmment pada tahun 2023 meningkat sebesar 99.5%"
   ]
  },
  {
   "cell_type": "markdown",
   "metadata": {},
   "source": [
    "## Descriptive Statistic Analysis"
   ]
  },
  {
   "cell_type": "markdown",
   "metadata": {},
   "source": [
    "### Rata-rata pembelian produk dalam satu transaksi"
   ]
  },
  {
   "cell_type": "code",
   "execution_count": 14,
   "metadata": {},
   "outputs": [
    {
     "data": {
      "text/plain": [
       "10.239655172413793"
      ]
     },
     "execution_count": 14,
     "metadata": {},
     "output_type": "execute_result"
    }
   ],
   "source": [
    "order_details.groupby('Order ID')['Quantity'].sum().mean()"
   ]
  },
  {
   "cell_type": "markdown",
   "metadata": {},
   "source": [
    "### Rata-rata profit yang dihasilkan dalam satu transaksi"
   ]
  },
  {
   "cell_type": "code",
   "execution_count": 15,
   "metadata": {},
   "outputs": [
    {
     "data": {
      "text/plain": [
       "79.11206896551724"
      ]
     },
     "execution_count": 15,
     "metadata": {},
     "output_type": "execute_result"
    }
   ],
   "source": [
    "order_details.groupby('Order ID')['Profit'].sum().mean()"
   ]
  },
  {
   "cell_type": "markdown",
   "metadata": {},
   "source": [
    "### Apakah rata-rata nilai transaksi perempuan dan laki-laki sama?"
   ]
  },
  {
   "cell_type": "code",
   "execution_count": 16,
   "metadata": {},
   "outputs": [
    {
     "name": "stdout",
     "output_type": "stream",
     "text": [
      "Category\n",
      "Female    586.537037\n",
      "Male      161.270270\n",
      "Name: Amount, dtype: float64\n"
     ]
    }
   ],
   "source": [
    "selected_categories = ['Female', 'Male']\n",
    "\n",
    "avg_amount_by_sex = order_details[\n",
    "    order_details['Category'].isin(selected_categories)\n",
    "    ].groupby('Category')['Amount'].mean()\n",
    "\n",
    "print(avg_amount_by_sex)"
   ]
  },
  {
   "cell_type": "code",
   "execution_count": 17,
   "metadata": {},
   "outputs": [
    {
     "data": {
      "text/plain": [
       "3.636981794933865"
      ]
     },
     "execution_count": 17,
     "metadata": {},
     "output_type": "execute_result"
    }
   ],
   "source": [
    "avg_amount_by_sex['Female'] / avg_amount_by_sex['Male']"
   ]
  },
  {
   "cell_type": "markdown",
   "metadata": {},
   "source": [
    "Nilai transaksi perempuan 3.6 kali lipat lebih besar dari nilai rata-rata transaksi laki-laki"
   ]
  },
  {
   "cell_type": "markdown",
   "metadata": {},
   "source": [
    "### Avg Purchase Value"
   ]
  },
  {
   "cell_type": "code",
   "execution_count": 18,
   "metadata": {},
   "outputs": [
    {
     "data": {
      "text/plain": [
       "441.2845596901835"
      ]
     },
     "execution_count": 18,
     "metadata": {},
     "output_type": "execute_result"
    }
   ],
   "source": [
    "(order_details['Amount'] * order_details['Quantity']).sum() / order_details['Quantity'].sum()"
   ]
  },
  {
   "cell_type": "markdown",
   "metadata": {},
   "source": [
    "### Total Profit 2023"
   ]
  },
  {
   "cell_type": "code",
   "execution_count": 19,
   "metadata": {},
   "outputs": [
    {
     "name": "stdout",
     "output_type": "stream",
     "text": [
      "Profit tahun 2023 adalah 27222\n"
     ]
    }
   ],
   "source": [
    "profit_current_year = order_details[order_details['Year'] == '2023']['Profit'].sum()\n",
    "print('Profit tahun 2023 adalah', profit_current_year)"
   ]
  },
  {
   "cell_type": "code",
   "execution_count": 23,
   "metadata": {},
   "outputs": [
    {
     "name": "stdout",
     "output_type": "stream",
     "text": [
      "Growth profit tahun 2023 adalah 45.860794084552325 %\n"
     ]
    }
   ],
   "source": [
    "profit_previous_year = order_details[order_details['Year'] == '2022']['Profit'].sum()\n",
    "\n",
    "print(\"Growth profit tahun 2023 adalah\", ((profit_current_year - profit_previous_year) / profit_previous_year) * 100,\"%\") "
   ]
  },
  {
   "cell_type": "markdown",
   "metadata": {},
   "source": [
    "## Categorical Variabel Analysis (PMF)"
   ]
  },
  {
   "cell_type": "markdown",
   "metadata": {},
   "source": [
    "### Distribusi proporsi profit di tiap-tiap state"
   ]
  },
  {
   "cell_type": "code",
   "execution_count": 24,
   "metadata": {},
   "outputs": [
    {
     "data": {
      "text/html": [
       "<div>\n",
       "<style scoped>\n",
       "    .dataframe tbody tr th:only-of-type {\n",
       "        vertical-align: middle;\n",
       "    }\n",
       "\n",
       "    .dataframe tbody tr th {\n",
       "        vertical-align: top;\n",
       "    }\n",
       "\n",
       "    .dataframe thead th {\n",
       "        text-align: right;\n",
       "    }\n",
       "</style>\n",
       "<table border=\"1\" class=\"dataframe\">\n",
       "  <thead>\n",
       "    <tr style=\"text-align: right;\">\n",
       "      <th></th>\n",
       "      <th>Profit</th>\n",
       "    </tr>\n",
       "    <tr>\n",
       "      <th>State</th>\n",
       "      <th></th>\n",
       "    </tr>\n",
       "  </thead>\n",
       "  <tbody>\n",
       "    <tr>\n",
       "      <th>Madhya Pradesh</th>\n",
       "      <td>0.247990</td>\n",
       "    </tr>\n",
       "    <tr>\n",
       "      <th>Maharashtra</th>\n",
       "      <td>0.161839</td>\n",
       "    </tr>\n",
       "    <tr>\n",
       "      <th>Gujarat</th>\n",
       "      <td>0.150311</td>\n",
       "    </tr>\n",
       "    <tr>\n",
       "      <th>Punjab</th>\n",
       "      <td>0.095652</td>\n",
       "    </tr>\n",
       "    <tr>\n",
       "      <th>Tamil Nadu</th>\n",
       "      <td>0.068127</td>\n",
       "    </tr>\n",
       "  </tbody>\n",
       "</table>\n",
       "</div>"
      ],
      "text/plain": [
       "                  Profit\n",
       "State                   \n",
       "Madhya Pradesh  0.247990\n",
       "Maharashtra     0.161839\n",
       "Gujarat         0.150311\n",
       "Punjab          0.095652\n",
       "Tamil Nadu      0.068127"
      ]
     },
     "execution_count": 24,
     "metadata": {},
     "output_type": "execute_result"
    }
   ],
   "source": [
    "pd.DataFrame(\n",
    "    order_details.groupby('State')['Profit'].sum() / order_details['Profit'].sum()\n",
    "    ).sort_values(\n",
    "        by='Profit',ascending=False\n",
    "        ).head()"
   ]
  },
  {
   "cell_type": "markdown",
   "metadata": {},
   "source": [
    "### Distribusi nilai transaksi berdasarkan State yang memiliki profit paling tinggi"
   ]
  },
  {
   "cell_type": "code",
   "execution_count": 25,
   "metadata": {},
   "outputs": [
    {
     "data": {
      "image/png": "[encoded data removed]",
      "text/plain": [
       "<Figure size 720x576 with 4 Axes>"
      ]
     },
     "metadata": {
      "needs_background": "light"
     },
     "output_type": "display_data"
    }
   ],
   "source": [
    "amount_madhya = order_details[order_details['State'] == 'Madhya Pradesh']['Amount']\n",
    "amount_maharashtra = order_details[order_details['State'] == 'Maharashtra']['Amount']\n",
    "amount_gujarat = order_details[order_details['State'] == 'Gujarat']['Amount']\n",
    "amount_punjab = order_details[order_details['State'] == 'Punjab']['Amount']\n",
    "num_bins = 30\n",
    "fig, axes = plt.subplots(2, 2, figsize=(10, 8))\n",
    "\n",
    "\n",
    "axes[0, 0].hist(amount_madhya, bins=num_bins, color='blue', alpha=0.5)\n",
    "axes[0, 0].set_title('Madhya Pradesh')\n",
    "axes[0, 0].set_xlabel('Amount')\n",
    "axes[0, 0].set_ylabel('Frequency')\n",
    "axes[0, 0].axvline(x=amount_madhya.median(), color='red', linestyle='--', label='Median')\n",
    "axes[0, 0].annotate(f'median = {amount_madhya.median():.2f}', xy=(amount_madhya.median(), 0), xytext=(amount_madhya.median() + 1000, 40),\n",
    "                    color='red', fontsize=10)\n",
    "\n",
    "axes[0, 1].hist(amount_maharashtra, bins=num_bins, color='grey', alpha=0.5)\n",
    "axes[0, 1].set_title('Maharashtra')\n",
    "axes[0, 1].set_xlabel('Amount')\n",
    "axes[0, 1].set_ylabel('Frequency')\n",
    "axes[0, 1].axvline(x=amount_maharashtra.median(), color='red', linestyle='--', label='Median')\n",
    "axes[0, 1].annotate(f'median = {amount_maharashtra.median():.2f}', xy=(amount_maharashtra.median(), 0), xytext=(amount_maharashtra.median() + 1000, 40),\n",
    "                    color='red', fontsize=10)\n",
    "\n",
    "axes[1, 0].hist(amount_gujarat, bins=num_bins, color='green', alpha=0.5)\n",
    "axes[1, 0].set_title('Gujarat')\n",
    "axes[1, 0].set_xlabel('Amount')\n",
    "axes[1, 0].set_ylabel('Frequency')\n",
    "axes[1, 0].axvline(x=amount_gujarat.median(), color='red', linestyle='--', label='Median')\n",
    "axes[1, 0].annotate(f'median = {amount_gujarat.median():.2f}', xy=(amount_gujarat.median(), 0), xytext=(amount_gujarat.median() + 1000, 40),\n",
    "                    color='red', fontsize=10)\n",
    "\n",
    "axes[1, 1].hist(amount_punjab, bins=num_bins, color='purple', alpha=0.5)\n",
    "axes[1, 1].set_title('Punjab')\n",
    "axes[1, 1].set_xlabel('Amount')\n",
    "axes[1, 1].set_ylabel('Frequency')\n",
    "axes[1, 1].axvline(x=amount_punjab.median(), color='red', linestyle='--', label='Median')\n",
    "axes[1, 1].annotate(f'median = {amount_punjab.median():.2f}', xy=(amount_punjab.median(), 0), xytext=(amount_punjab.median() + 1000, 40),\n",
    "                    color='red', fontsize=10)\n",
    "\n",
    "plt.tight_layout()\n",
    "plt.show()"
   ]
  },
  {
   "cell_type": "markdown",
   "metadata": {},
   "source": [
    "## Hypothesis Testing"
   ]
  },
  {
   "cell_type": "markdown",
   "metadata": {},
   "source": [
    "### Profit yang dihasilkan perempuan lebih besar dari laki-laki"
   ]
  },
  {
   "cell_type": "markdown",
   "metadata": {},
   "source": [
    "#### Hypothesis\n",
    "\n",
    "- Null Hypothesis (H0): Tidak ada perbedaan profit yang didapatkan dari proses pembelian produk antara laki-laki dan perempuan\n",
    "- Alternative Hypothesis (H1): Profit dari hasil proses pembelian produk oleh perempuan lebih tinggi daripada laki-laki\n",
    "\n",
    "Type hypothesis: Right-tailed\n",
    "\n",
    "Method testing: \n",
    "- option 1. parametrik independent t-test\n",
    "- option 2. non parametrik mann-whitney U\n",
    "\n",
    "Asumsi parametrik:\n",
    "- Merupakan sample acak yang representatif dari populasi\n",
    "- Data harus kontinu, baik berupa interval atau ratio\n",
    "- Berdistribusi normal\n",
    "- Homoskedastisitas"
   ]
  },
  {
   "cell_type": "code",
   "execution_count": 26,
   "metadata": {},
   "outputs": [],
   "source": [
    "def plot_distribution(data1, data2, label_data1, label_data2, xlabel, ylabel, title):\n",
    "    plt.figure(figsize=(8, 6))\n",
    "    sns.histplot(data1, kde=True, color='blue', label=label_data1)\n",
    "    sns.histplot(data2, kde=True, color='red', label=label_data2)\n",
    "    plt.xlabel(xlabel)\n",
    "    plt.ylabel(ylabel)\n",
    "    plt.title(title)\n",
    "    plt.legend()\n",
    "    plt.show()"
   ]
  },
  {
   "cell_type": "code",
   "execution_count": 27,
   "metadata": {},
   "outputs": [
    {
     "data": {
      "image/png": "[encoded data removed]",
      "text/plain": [
       "<Figure size 576x432 with 1 Axes>"
      ]
     },
     "metadata": {
      "needs_background": "light"
     },
     "output_type": "display_data"
    }
   ],
   "source": [
    "profit_male = order_details[order_details['Category'] == 'Male']['Profit']\n",
    "profit_female = order_details[order_details['Category'] == 'Female']['Profit']\n",
    "\n",
    "plot_distribution(profit_male,\n",
    "                  profit_female,\n",
    "                  'Male', 'Female',\n",
    "                  'Profit', 'Density', 'Distribution of Profit Category')"
   ]
  },
  {
   "cell_type": "code",
   "execution_count": 28,
   "metadata": {},
   "outputs": [
    {
     "data": {
      "text/plain": [
       "False"
      ]
     },
     "execution_count": 28,
     "metadata": {},
     "output_type": "execute_result"
    }
   ],
   "source": [
    "profit_male.var() == profit_female.var()"
   ]
  },
  {
   "cell_type": "code",
   "execution_count": 29,
   "metadata": {},
   "outputs": [
    {
     "name": "stdout",
     "output_type": "stream",
     "text": [
      "2.2268563852105115e-41\n"
     ]
    }
   ],
   "source": [
    "from scipy.stats import levene\n",
    "from scipy import stats\n",
    "\n",
    "# uji Levene untuk mengecek homoskedastisitas\n",
    "statistic, p_value = levene(profit_female, profit_male)\n",
    "\n",
    "print(p_value)"
   ]
  },
  {
   "cell_type": "markdown",
   "metadata": {},
   "source": [
    "p-value < 0.05 artinya data bersifat heteroskedastisitas. Hal ini juga ditunjukkan dengan output False ketika memeriksa kesamaan variansi antar 2 kelompok. Oleh sebab itu kita menggunakan uji non-parametrik Mann-Whitney"
   ]
  },
  {
   "cell_type": "code",
   "execution_count": 30,
   "metadata": {},
   "outputs": [
    {
     "name": "stdout",
     "output_type": "stream",
     "text": [
      "U statistic: 177469.5\n",
      "P value: 0.004450274916362101\n"
     ]
    }
   ],
   "source": [
    "u_statistic, p_value = stats.mannwhitneyu(profit_female, profit_male, alternative='greater')\n",
    "\n",
    "# Print the results\n",
    "print(\"U statistic:\", u_statistic)\n",
    "print(\"P value:\", p_value)"
   ]
  },
  {
   "cell_type": "markdown",
   "metadata": {},
   "source": [
    "p-value < 0.05 yang berarti terdapat cukup bukti untuk kita menolak H0 atau dengan kata lain profit yang dihasilkan oleh perempuan selama proses transaksi produk lebih besar dibandingkan dengan yang dihasilkan oleh laki-laki"
   ]
  },
  {
   "cell_type": "markdown",
   "metadata": {},
   "source": [
    "### Purchase value tahun 2023 lebih besar dibandingkan tahun 2024"
   ]
  },
  {
   "cell_type": "markdown",
   "metadata": {},
   "source": [
    "#### Hypothesis\n",
    "\n",
    "- Null Hypothesis (H0): Tidak ada perbedaan purchase tahun 2023 dengan tahun 2022\n",
    "- Alternative Hypothesis (H1): Purchase value pada tahun 2023 lebih tinggi daripada tahun 2022\n",
    "\n",
    "Type hypothesis: Right-tailed\n",
    "\n",
    "Method testing: \n",
    "- option 1. parametrik independent t-test\n",
    "- option 2. non parametrik mann-whitney U\n",
    "\n",
    "Asumsi parametrik:\n",
    "- Merupakan sample acak yang representatif dari populasi\n",
    "- Data harus kontinu, baik berupa interval atau ratio\n",
    "- Berdistribusi normal\n",
    "- Homoskedastisitas"
   ]
  },
  {
   "cell_type": "code",
   "execution_count": 31,
   "metadata": {},
   "outputs": [
    {
     "data": {
      "image/png": "[encoded data removed]",
      "text/plain": [
       "<Figure size 576x432 with 1 Axes>"
      ]
     },
     "metadata": {
      "needs_background": "light"
     },
     "output_type": "display_data"
    }
   ],
   "source": [
    "purchase_value_2023 = order_details[order_details['Year'] == '2023']['Amount']\n",
    "purchase_value_2022 = order_details[order_details['Year'] == '2022']['Amount']\n",
    "\n",
    "plot_distribution(purchase_value_2023,\n",
    "                  purchase_value_2022,\n",
    "                  'Purchase Value 2023', 'Purchase Value 2022',\n",
    "                  'Purchase Value', 'Density', 'Distribution of Purchase Value')"
   ]
  },
  {
   "cell_type": "code",
   "execution_count": 32,
   "metadata": {},
   "outputs": [
    {
     "data": {
      "text/plain": [
       "False"
      ]
     },
     "execution_count": 32,
     "metadata": {},
     "output_type": "execute_result"
    }
   ],
   "source": [
    "purchase_value_2023.var() == purchase_value_2022.var()"
   ]
  },
  {
   "cell_type": "code",
   "execution_count": 33,
   "metadata": {},
   "outputs": [
    {
     "name": "stdout",
     "output_type": "stream",
     "text": [
      "0.022048393735546953\n"
     ]
    }
   ],
   "source": [
    "# uji Levene untuk mengecek homoskedastisitas\n",
    "statistic, p_value = levene(purchase_value_2023, purchase_value_2022)\n",
    "\n",
    "print(p_value)"
   ]
  },
  {
   "cell_type": "markdown",
   "metadata": {},
   "source": [
    "p-value < 0.05 artinya data bersifat heteroskedastisitas. Hal ini juga ditunjukkan dengan output False ketika memeriksa kesamaan variansi antar 2 kelompok. Oleh sebab itu kita menggunakan uji non-parametrik Mann-Whitney"
   ]
  },
  {
   "cell_type": "code",
   "execution_count": 34,
   "metadata": {},
   "outputs": [
    {
     "name": "stdout",
     "output_type": "stream",
     "text": [
      "U statistic: 231303.0\n",
      "P value: 0.999999999323936\n"
     ]
    }
   ],
   "source": [
    "u_statistic, p_value = stats.mannwhitneyu(purchase_value_2023, purchase_value_2022, alternative='greater')\n",
    "\n",
    "# Print the results\n",
    "print(\"U statistic:\", u_statistic)\n",
    "print(\"P value:\", p_value)"
   ]
  },
  {
   "cell_type": "markdown",
   "metadata": {},
   "source": [
    "p-value > 0.05 yang berarti tidak terdapat cukup bukti untuk kita menolak H0 atau dengan kata lain tidak ada perbedaan antara purchase value tahun 2023 dengan purchase value tahun 2022"
   ]
  }
 ],
 "metadata": {
  "kernelspec": {
   "display_name": "base",
   "language": "python",
   "name": "python3"
  },
  "language_info": {
   "codemirror_mode": {
    "name": "ipython",
    "version": 3
   },
   "file_extension": ".py",
   "mimetype": "text/x-python",
   "name": "python",
   "nbconvert_exporter": "python",
   "pygments_lexer": "ipython3",
   "version": "3.8.8"
  }
 },
 "nbformat": 4,
 "nbformat_minor": 2
}
